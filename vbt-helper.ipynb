{
 "cells": [
  {
   "cell_type": "code",
   "execution_count": 4,
   "metadata": {},
   "outputs": [
    {
     "name": "stdout",
     "output_type": "stream",
     "text": [
      "MACD.run(\n",
      "    close,\n",
      "    fastperiod=Default(value=12),\n",
      "    slowperiod=Default(value=26),\n",
      "    signalperiod=Default(value=9),\n",
      "    timeframe=Default(value=None),\n",
      "    short_name='macd',\n",
      "    hide_params=None,\n",
      "    hide_default=True,\n",
      "    **kwargs\n",
      "):\n",
      "    Run `MACD` indicator.\n",
      "    \n",
      "    * Inputs: `close`\n",
      "    * Parameters: `fastperiod`, `slowperiod`, `signalperiod`, `timeframe`\n",
      "    * Outputs: `macd`, `macdsignal`, `macdhist`\n",
      "    \n",
      "    Pass a list of parameter names as `hide_params` to hide their column levels, or True to hide all.\n",
      "    Set `hide_default` to False to show the column levels of the parameters with a default value.\n",
      "    \n",
      "    Other keyword arguments are passed to `MACD.run_pipeline`.\n"
     ]
    }
   ],
   "source": [
    "import vectorbtpro as vbt\n",
    "\n",
    "vbt.IF.list_indicators(\"*SMA\")\n",
    "vbt.phelp(vbt.indicator(\"talib:MACD\").run)\n"
   ]
  }
 ],
 "metadata": {
  "kernelspec": {
   "display_name": ".venv",
   "language": "python",
   "name": "python3"
  },
  "language_info": {
   "codemirror_mode": {
    "name": "ipython",
    "version": 3
   },
   "file_extension": ".py",
   "mimetype": "text/x-python",
   "name": "python",
   "nbconvert_exporter": "python",
   "pygments_lexer": "ipython3",
   "version": "3.10.11"
  }
 },
 "nbformat": 4,
 "nbformat_minor": 2
}
