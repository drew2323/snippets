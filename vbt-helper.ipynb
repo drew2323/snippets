{
 "cells": [
  {
   "cell_type": "code",
   "execution_count": 5,
   "metadata": {},
   "outputs": [
    {
     "name": "stdout",
     "output_type": "stream",
     "text": [
      "BBANDS.run(\n",
      "    close,\n",
      "    timeperiod=Default(value=5),\n",
      "    nbdevup=Default(value=2.0),\n",
      "    nbdevdn=Default(value=2.0),\n",
      "    matype=Default(value=0),\n",
      "    timeframe=Default(value=None),\n",
      "    short_name='bbands',\n",
      "    hide_params=None,\n",
      "    hide_default=True,\n",
      "    **kwargs\n",
      "):\n",
      "    Run `BBANDS` indicator.\n",
      "    \n",
      "    * Inputs: `close`\n",
      "    * Parameters: `timeperiod`, `nbdevup`, `nbdevdn`, `matype`, `timeframe`\n",
      "    * Outputs: `upperband`, `middleband`, `lowerband`\n",
      "    \n",
      "    Pass a list of parameter names as `hide_params` to hide their column levels, or True to hide all.\n",
      "    Set `hide_default` to False to show the column levels of the parameters with a default value.\n",
      "    \n",
      "    Other keyword arguments are passed to `BBANDS.run_pipeline`.\n"
     ]
    }
   ],
   "source": [
    "import vectorbtpro as vbt\n",
    "\n",
    "vbt.IF.list_indicators(\"*SMA\")\n",
    "vbt.phelp(vbt.indicator(\"talib:BBANDS\").run)\n"
   ]
  }
 ],
 "metadata": {
  "kernelspec": {
   "display_name": ".venv",
   "language": "python",
   "name": "python3"
  },
  "language_info": {
   "codemirror_mode": {
    "name": "ipython",
    "version": 3
   },
   "file_extension": ".py",
   "mimetype": "text/x-python",
   "name": "python",
   "nbconvert_exporter": "python",
   "pygments_lexer": "ipython3",
   "version": "3.10.11"
  }
 },
 "nbformat": 4,
 "nbformat_minor": 2
}
