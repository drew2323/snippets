{
 "cells": [
  {
   "cell_type": "code",
   "execution_count": 24,
   "metadata": {},
   "outputs": [
    {
     "name": "stdout",
     "output_type": "stream",
     "text": [
      "CHOPINESS.run(\n",
      "    open,\n",
      "    high,\n",
      "    low,\n",
      "    close,\n",
      "    volume,\n",
      "    window=Default(value=14),\n",
      "    short_name='chopiness',\n",
      "    hide_params=None,\n",
      "    hide_default=True,\n",
      "    **kwargs\n",
      "):\n",
      "    Run `CHOPINESS` indicator.\n",
      "    \n",
      "    * Inputs: `open`, `high`, `low`, `close`, `volume`\n",
      "    * Parameters: `window`\n",
      "    * Outputs: `chopiness`\n",
      "    \n",
      "    Pass a list of parameter names as `hide_params` to hide their column levels, or True to hide all.\n",
      "    Set `hide_default` to False to show the column levels of the parameters with a default value.\n",
      "    \n",
      "    Other keyword arguments are passed to `CHOPINESS.run_pipeline`.\n"
     ]
    }
   ],
   "source": [
    "import vectorbtpro as vbt\n",
    "# IndicatorFactory.list_indicators(\n",
    "#     pattern=None,\n",
    "#     case_sensitive=False,\n",
    "#     use_regex=False,\n",
    "#     location=None,\n",
    "#     prepend_location=None\n",
    "# )\n",
    "\n",
    "#365\n",
    "#bt.IF.list_locations()\n",
    "#vbt.IF.list_indicators(pattern=\"technical\")\n",
    "\n",
    "vbt.phelp(vbt.indicator(\"technical:CHOPINESS\").run)\n",
    "\n"
   ]
  },
  {
   "cell_type": "code",
   "execution_count": null,
   "metadata": {},
   "outputs": [],
   "source": []
  },
  {
   "cell_type": "code",
   "execution_count": 9,
   "metadata": {},
   "outputs": [
    {
     "data": {
      "text/plain": [
       "['vbt',\n",
       " 'talib_func',\n",
       " 'talib',\n",
       " 'pandas_ta',\n",
       " 'ta',\n",
       " 'technical',\n",
       " 'techcon',\n",
       " 'smc',\n",
       " 'wqa101']"
      ]
     },
     "execution_count": 9,
     "metadata": {},
     "output_type": "execute_result"
    }
   ],
   "source": [
    "import vectorbtpro as vbt\n",
    "\n",
    "\n",
    "vbt.IF.list_locations()\n",
    "\n",
    "#vbt.IF.list_indicators(\"technical*\")\n",
    "#vbt.phelp(vbt.indicator(\"talib:BBANDS\").run)\n",
    "\n",
    "['vbt',\n",
    " 'talib_func',\n",
    " 'talib',\n",
    " 'pandas_ta',\n",
    " 'ta',\n",
    " 'technical',\n",
    " 'techcon',\n",
    " 'smc',\n",
    " 'wqa101']\n"
   ]
  },
  {
   "cell_type": "code",
   "execution_count": 10,
   "metadata": {},
   "outputs": [
    {
     "name": "stdout",
     "output_type": "stream",
     "text": [
      "HULL_MOVING_AVERAGE.run(\n",
      "    close,\n",
      "    window=Default(value=200),\n",
      "    min_periods=Default(value=None),\n",
      "    short_name='hull_moving_average',\n",
      "    hide_params=None,\n",
      "    hide_default=True,\n",
      "    **kwargs\n",
      "):\n",
      "    Run `HULL_MOVING_AVERAGE` indicator.\n",
      "    \n",
      "    * Inputs: `close`\n",
      "    * Parameters: `window`, `min_periods`\n",
      "    * Outputs: `hull_moving_average`\n",
      "    \n",
      "    Pass a list of parameter names as `hide_params` to hide their column levels, or True to hide all.\n",
      "    Set `hide_default` to False to show the column levels of the parameters with a default value.\n",
      "    \n",
      "    Other keyword arguments are passed to `HULL_MOVING_AVERAGE.run_pipeline`.\n"
     ]
    }
   ],
   "source": [
    "vbt.phelp(vbt.indicator(\"technical:HULL_MOVING_AVERAGE\").run)"
   ]
  }
 ],
 "metadata": {
  "kernelspec": {
   "display_name": ".venv",
   "language": "python",
   "name": "python3"
  },
  "language_info": {
   "codemirror_mode": {
    "name": "ipython",
    "version": 3
   },
   "file_extension": ".py",
   "mimetype": "text/x-python",
   "name": "python",
   "nbconvert_exporter": "python",
   "pygments_lexer": "ipython3",
   "version": "3.10.11"
  }
 },
 "nbformat": 4,
 "nbformat_minor": 2
}
